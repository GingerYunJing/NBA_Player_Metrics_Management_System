{
 "cells": [
  {
   "cell_type": "markdown",
   "metadata": {},
   "source": [
    "# Import packages"
   ]
  },
  {
   "cell_type": "code",
   "execution_count": 4,
   "metadata": {},
   "outputs": [],
   "source": [
    "import pandas as pd"
   ]
  },
  {
   "cell_type": "markdown",
   "metadata": {},
   "source": [
    "# Current players"
   ]
  },
  {
   "cell_type": "code",
   "execution_count": 6,
   "metadata": {},
   "outputs": [],
   "source": [
    "# Read the existing CSV file\n",
    "df = pd.read_csv('Data/current_players.csv')\n",
    "\n",
    "# Split the DataFrame based on the value of Home_Team_ID\n",
    "df_nba_0 = df[df['TEAM_ID'] % 2 == 0]\n",
    "df_nba_1 = df[df['TEAM_ID'] % 2 != 0]\n",
    "\n",
    "# Save the split DataFrames to separate CSV files\n",
    "df_nba_0.to_csv('Data/0/current_players_0.csv', index=False)\n",
    "df_nba_1.to_csv('Data/1/current_players_1.csv', index=False)"
   ]
  },
  {
   "cell_type": "markdown",
   "metadata": {},
   "source": [
    "# All draft picks"
   ]
  },
  {
   "cell_type": "code",
   "execution_count": 7,
   "metadata": {},
   "outputs": [],
   "source": [
    "# Read the existing CSV file\n",
    "df = pd.read_csv('Data/all_draft_picks.csv')\n",
    "\n",
    "# Split the DataFrame based on the value of Home_Team_ID\n",
    "df_nba_0 = df[df['TEAM_ID'] % 2 == 0]\n",
    "df_nba_1 = df[df['TEAM_ID'] % 2 != 0]\n",
    "\n",
    "# Save the split DataFrames to separate CSV files\n",
    "df_nba_0.to_csv('Data/0/all_draft_picks_0.csv', index=False)\n",
    "df_nba_1.to_csv('Data/1/all_draft_picks_1.csv', index=False)\n"
   ]
  },
  {
   "cell_type": "markdown",
   "metadata": {},
   "source": [
    "# All players season stats 2023 - 2024"
   ]
  },
  {
   "cell_type": "code",
   "execution_count": 8,
   "metadata": {},
   "outputs": [],
   "source": [
    "# Read the existing CSV file\n",
    "df = pd.read_csv('Data/all_players_season_stats_2023_24.csv')\n",
    "\n",
    "# Split the DataFrame based on the value of Home_Team_ID\n",
    "df_nba_0 = df[df['TEAM_ID'] % 2 == 0]\n",
    "df_nba_1 = df[df['TEAM_ID'] % 2 != 0]\n",
    "\n",
    "# Save the split DataFrames to separate CSV files\n",
    "df_nba_0.to_csv('Data/0/all_players_season_stats_2023_24_0.csv', index=False)\n",
    "df_nba_1.to_csv('Data/1/all_players_season_stats_2023_24_1.csv', index=False)\n"
   ]
  }
 ],
 "metadata": {
  "kernelspec": {
   "display_name": "Python 3",
   "language": "python",
   "name": "python3"
  },
  "language_info": {
   "codemirror_mode": {
    "name": "ipython",
    "version": 3
   },
   "file_extension": ".py",
   "mimetype": "text/x-python",
   "name": "python",
   "nbconvert_exporter": "python",
   "pygments_lexer": "ipython3",
   "version": "3.11.9"
  }
 },
 "nbformat": 4,
 "nbformat_minor": 2
}
